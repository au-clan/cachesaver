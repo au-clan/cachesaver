{
 "cells": [
  {
   "cell_type": "markdown",
   "id": "aa415a82",
   "metadata": {},
   "source": [
    "# Sampling with CacheSaver: Bringing the power of seeding to LLM Inference"
   ]
  },
  {
   "cell_type": "code",
   "execution_count": null,
   "id": "dd8d1d1e",
   "metadata": {},
   "outputs": [],
   "source": [
    "%load_ext autoreload\n",
    "%autoreload 2\n",
    "\n",
    "from diskcache import Cache\n",
    "\n",
    "from openai import AsyncOpenAI\n",
    "\n",
    "from cachesaver.pipelines import OnlineAPI\n",
    "\n",
    "from src.models import OnlineLLM, API\n",
    "from src.typedefs import DecodingParameters"
   ]
  },
  {
   "cell_type": "markdown",
   "id": "2190d45b",
   "metadata": {},
   "source": [
    "## Hyperparams etc."
   ]
  },
  {
   "cell_type": "code",
   "execution_count": null,
   "id": "ae51d35b",
   "metadata": {},
   "outputs": [],
   "source": [
    "batch_size = 1\n",
    "timeout=2\n",
    "allow_batch_overflow = 1\n",
    "correctness = 1\n",
    "ns_ratio=0\n",
    "value_cache=True\n",
    "\n",
    "cache_path=\"caches/developping\"\n",
    "\n",
    "benchmark=\"hotpotqa\"\n",
    "method=\"tot_bfs\"\n",
    "split=\"mini\"\n",
    "\n",
    "model=\"gpt-4.1\"\n",
    "temperature=1.5\n",
    "max_completion_tokens=10000\n",
    "top_p=1.0\n",
    "stop=None\n",
    "logprobs=None\n",
    "\n",
    "# Decoding Parameters\n",
    "params = DecodingParameters(\n",
    "    temperature=temperature,\n",
    "    max_completion_tokens=max_completion_tokens,\n",
    "    top_p=top_p,\n",
    "    stop=stop,\n",
    "    logprobs=logprobs\n",
    ")\n",
    "\n",
    "prompt = \"Give me the name of a random city from all over the world (only the name, no other text).\""
   ]
  },
  {
   "cell_type": "markdown",
   "id": "a6f9a572",
   "metadata": {},
   "source": [
    "## Client Initializers\n",
    "Creating functions to initialize clients. When `cachesaver-core` API will be updated this will be done in the background."
   ]
  },
  {
   "cell_type": "code",
   "execution_count": null,
   "id": "c78e6055",
   "metadata": {},
   "outputs": [],
   "source": [
    "def get_cachesaver_client():\n",
    "    \"\"\"\n",
    "    Just a random function to intialize CacheSaver client\n",
    "    \"\"\"\n",
    "    cache = Cache(cache_path)\n",
    "\n",
    "    # Model\n",
    "    model = OnlineLLM(provider=\"openai\")\n",
    "\n",
    "    # Pipeline\n",
    "    pipeline = OnlineAPI(\n",
    "        model=model,\n",
    "        cache=cache,\n",
    "        batch_size=batch_size,\n",
    "        timeout=timeout,\n",
    "        allow_batch_overflow=allow_batch_overflow,\n",
    "        correctness=bool(correctness)\n",
    "    )\n",
    "\n",
    "    # CacheSaver Client\n",
    "    client_cachesaver = API(\n",
    "        pipeline=pipeline,\n",
    "        model=\"gpt-4.1\"\n",
    "    )\n",
    "    return client_cachesaver\n",
    "\n",
    "def get_openai_client():\n",
    "    \"\"\"\n",
    "    Just a random function to intialize CacheSaver client\n",
    "    \"\"\"\n",
    "    client_openai = AsyncOpenAI()\n",
    "    return client_openai"
   ]
  },
  {
   "cell_type": "markdown",
   "id": "dff4135a",
   "metadata": {},
   "source": [
    "## Examples with OpenAI"
   ]
  },
  {
   "cell_type": "code",
   "execution_count": null,
   "id": "2d01a3e2",
   "metadata": {},
   "outputs": [
    {
     "name": "stdout",
     "output_type": "stream",
     "text": [
      "Asking for 3 output samples:  ['Brisbane', 'Lviv', 'Seoul']\n",
      "Asking for 2 output samples:  ['Portland', 'Kyoto']\n",
      "Asking for 5 output samples:  ['Tokyo', 'Istanbul', 'Venice', 'Kyoto', 'Cadagaution']\n"
     ]
    }
   ],
   "source": [
    "for n in [3, 2, 5]:\n",
    "    OpenAI = get_openai_client()\n",
    "    response = await OpenAI.chat.completions.create(\n",
    "        model=\"gpt-4.1-nano\",\n",
    "        messages=[\n",
    "            {\"role\": \"user\", \"content\": prompt}\n",
    "        ],\n",
    "        n=n,\n",
    "        temperature=temperature,\n",
    "        max_completion_tokens=max_completion_tokens,\n",
    "        top_p=top_p,\n",
    "        stop=stop,\n",
    "        logprobs=logprobs\n",
    "    )\n",
    "    print(f\"Asking for {n} output samples: \", [choice.message.content for choice in response.choices])"
   ]
  },
  {
   "cell_type": "markdown",
   "id": "3dbcff36",
   "metadata": {},
   "source": [
    "## Examples with CacheSaver"
   ]
  },
  {
   "cell_type": "code",
   "execution_count": null,
   "id": "6918b876",
   "metadata": {},
   "outputs": [
    {
     "name": "stdout",
     "output_type": "stream",
     "text": [
      "Asking for 3 output samples:  ['Valparaíso', 'Dakar', 'Varna']\n",
      "Asking for 2 output samples:  ['Valparaíso', 'Dakar']\n",
      "Asking for 5 output samples:  ['Valparaíso', 'Dakar', 'Varna', 'Copenhagen', 'Mendoza']\n"
     ]
    }
   ],
   "source": [
    "for n in [3, 2, 5]:\n",
    "    CacheSaver = get_cachesaver_client()\n",
    "    response = await CacheSaver.request(\n",
    "        prompt = prompt,\n",
    "        params = params,\n",
    "        n = n,\n",
    "        request_id = f\"sth\",\n",
    "        namespace=\"cities_experiment\",\n",
    "    )\n",
    "    print(f\"Asking for {n} output samples: \", [content for content in response])"
   ]
  }
 ],
 "metadata": {
  "kernelspec": {
   "display_name": "cachesaver",
   "language": "python",
   "name": "python3"
  },
  "language_info": {
   "codemirror_mode": {
    "name": "ipython",
    "version": 3
   },
   "file_extension": ".py",
   "mimetype": "text/x-python",
   "name": "python",
   "nbconvert_exporter": "python",
   "pygments_lexer": "ipython3",
   "version": "3.10.16"
  }
 },
 "nbformat": 4,
 "nbformat_minor": 5
}

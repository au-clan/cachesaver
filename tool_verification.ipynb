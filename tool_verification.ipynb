{
 "cells": [
  {
   "cell_type": "code",
   "execution_count": 1,
   "metadata": {},
   "outputs": [],
   "source": [
    "# imports\n",
    "import os\n",
    "import asyncio\n",
    "from diskcache import Cache\n",
    "from groq import AsyncGroq\n",
    "from omegaconf import OmegaConf\n",
    "from cachesaver.pipelines import OnlineAPI\n",
    "from cachesaver.typedefs import Response, Batch\n",
    "from typing import Any, List\n",
    "\n",
    "import sys\n",
    "sys.path.append(os.getcwd())\n",
    "\n",
    "from src.utils import tokens2cost\n",
    "from src.algorithms import *\n",
    "from src.models import OnlineLLM, API\n",
    "from src.typedefs import DecodingParameters, Model\n",
    "from src.tasks.game24 import EnvironmentGame24, AgentBfsGame24, AgentAggregateGame24, AgentEvaluateGame24, StateGame24"
   ]
  },
  {
   "cell_type": "code",
   "execution_count": 2,
   "metadata": {},
   "outputs": [],
   "source": [
    "from groq import RateLimitError\n",
    "\n",
    "class MockLLM(Model):\n",
    "    def __init__(self, client: Any, model: str)-> None:\n",
    "        self.client = client\n",
    "        self.model = model\n",
    "\n",
    "    async def request(self, prompt: str, n: int, request_id: int, namespace: str, params: DecodingParameters) -> Response:\n",
    "        sleep = 1\n",
    "        while True:\n",
    "            try:\n",
    "                completion = await self.client.chat.completions.create(\n",
    "                    messages = [\n",
    "                        {\n",
    "                            \"role\" : \"user\",\n",
    "                            \"content\" : prompt\n",
    "                        }\n",
    "                    ],\n",
    "                    model = self.model,\n",
    "                    n = n,\n",
    "                    max_tokens= params.max_completion_tokens or None, # or None not needed but just to be explicit\n",
    "                    temperature = params.temperature or 1,\n",
    "                    stop = params.stop or None,\n",
    "                    top_p = params.top_p or 1,\n",
    "                    seed = 1234,\n",
    "                    logprobs = params.logprobs or False,\n",
    "                    top_logprobs = None,\n",
    "                )\n",
    "                break\n",
    "            except RateLimitError as e:\n",
    "                await asyncio.sleep(max(sleep, 90))\n",
    "                sleep *= 2\n",
    "            except Exception as e:\n",
    "                print(f\"Error {e}\")\n",
    "                raise e\n",
    "        input_tokens = completion.usage.prompt_tokens\n",
    "        completion_tokens = completion.usage.completion_tokens\n",
    "        response = [choice.message.content for choice in completion.choices]\n",
    "        return response\n",
    "    \n",
    "    async def batch_request(self, batch: Batch) -> List[Response]:\n",
    "        requests = [self.request(request) for request in batch.requests]\n",
    "        completions = await asyncio.gather(*requests)\n",
    "        return completions"
   ]
  },
  {
   "cell_type": "code",
   "execution_count": 3,
   "metadata": {},
   "outputs": [],
   "source": [
    "llm = \"llama-3.3-70b-versatile\"\n",
    "game_simple = \"10 10 1 4\"\n",
    "\n",
    "cache = Cache(f\"caches\\\\game24\")\n",
    "\n",
    "client = AsyncGroq()\n",
    "model = MockLLM(client=client, model=llm)\n",
    "# pipeline = OnlineAPI(\n",
    "#     model=model,\n",
    "#     cache=cache,\n",
    "#     batch_size=2,\n",
    "#     timeout=0.1,\n",
    "# )\n",
    "# api = API(\n",
    "#     pipeline=pipeline,\n",
    "#     model=llm\n",
    "# )\n",
    "\n",
    "state = StateGame24(\n",
    "    puzzle=game_simple,\n",
    "    current_state=game_simple,\n",
    "    steps=[],\n",
    "    randomness=None,\n",
    ")"
   ]
  },
  {
   "cell_type": "code",
   "execution_count": 4,
   "metadata": {},
   "outputs": [
    {
     "name": "stdout",
     "output_type": "stream",
     "text": [
      "Step 0, current state: [StateGame24(puzzle='10 10 1 4', current_state='10 10 1 4', steps=[], randomness=6311)]\n"
     ]
    },
    {
     "ename": "IndexError",
     "evalue": "list index out of range",
     "output_type": "error",
     "traceback": [
      "\u001b[1;31m---------------------------------------------------------------------------\u001b[0m",
      "\u001b[1;31mIndexError\u001b[0m                                Traceback (most recent call last)",
      "\u001b[1;32mc:\\Users\\slotk\\Desktop\\projectsV2\\cachesaver\\tool_verification.ipynb Cell 4\u001b[0m line \u001b[0;36m2\n\u001b[0;32m     <a href='vscode-notebook-cell:/c%3A/Users/slotk/Desktop/projectsV2/cachesaver/tool_verification.ipynb#W2sZmlsZQ%3D%3D?line=10'>11</a>\u001b[0m agents \u001b[39m=\u001b[39m AgentDictGOT(\n\u001b[0;32m     <a href='vscode-notebook-cell:/c%3A/Users/slotk/Desktop/projectsV2/cachesaver/tool_verification.ipynb#W2sZmlsZQ%3D%3D?line=11'>12</a>\u001b[0m     step\u001b[39m=\u001b[39mAgentBfsGame24,\n\u001b[0;32m     <a href='vscode-notebook-cell:/c%3A/Users/slotk/Desktop/projectsV2/cachesaver/tool_verification.ipynb#W2sZmlsZQ%3D%3D?line=12'>13</a>\u001b[0m     aggregate\u001b[39m=\u001b[39mAgentAggregateGame24,\n\u001b[1;32m   (...)\u001b[0m\n\u001b[0;32m     <a href='vscode-notebook-cell:/c%3A/Users/slotk/Desktop/projectsV2/cachesaver/tool_verification.ipynb#W2sZmlsZQ%3D%3D?line=16'>17</a>\u001b[0m     eval_params\u001b[39m=\u001b[39mparams,\n\u001b[0;32m     <a href='vscode-notebook-cell:/c%3A/Users/slotk/Desktop/projectsV2/cachesaver/tool_verification.ipynb#W2sZmlsZQ%3D%3D?line=17'>18</a>\u001b[0m )\n\u001b[0;32m     <a href='vscode-notebook-cell:/c%3A/Users/slotk/Desktop/projectsV2/cachesaver/tool_verification.ipynb#W2sZmlsZQ%3D%3D?line=18'>19</a>\u001b[0m method \u001b[39m=\u001b[39m AlgorithmGOT(\n\u001b[0;32m     <a href='vscode-notebook-cell:/c%3A/Users/slotk/Desktop/projectsV2/cachesaver/tool_verification.ipynb#W2sZmlsZQ%3D%3D?line=19'>20</a>\u001b[0m     model\u001b[39m=\u001b[39mmodel,\n\u001b[0;32m     <a href='vscode-notebook-cell:/c%3A/Users/slotk/Desktop/projectsV2/cachesaver/tool_verification.ipynb#W2sZmlsZQ%3D%3D?line=20'>21</a>\u001b[0m     agents\u001b[39m=\u001b[39magents,\n\u001b[1;32m   (...)\u001b[0m\n\u001b[0;32m     <a href='vscode-notebook-cell:/c%3A/Users/slotk/Desktop/projectsV2/cachesaver/tool_verification.ipynb#W2sZmlsZQ%3D%3D?line=25'>26</a>\u001b[0m     num_evaluations\u001b[39m=\u001b[39mconfig\u001b[39m.\u001b[39mgot\u001b[39m.\u001b[39mnum_evaluations,\n\u001b[0;32m     <a href='vscode-notebook-cell:/c%3A/Users/slotk/Desktop/projectsV2/cachesaver/tool_verification.ipynb#W2sZmlsZQ%3D%3D?line=26'>27</a>\u001b[0m )\n\u001b[1;32m---> <a href='vscode-notebook-cell:/c%3A/Users/slotk/Desktop/projectsV2/cachesaver/tool_verification.ipynb#W2sZmlsZQ%3D%3D?line=28'>29</a>\u001b[0m results \u001b[39m=\u001b[39m \u001b[39mawait\u001b[39;00m method\u001b[39m.\u001b[39msolve(idx\u001b[39m=\u001b[39m\u001b[39m0\u001b[39m, state\u001b[39m=\u001b[39mstate, namespace\u001b[39m=\u001b[39m\u001b[39m\"\u001b[39m\u001b[39msmall\u001b[39m\u001b[39m\"\u001b[39m, value_cache\u001b[39m=\u001b[39m\u001b[39mNone\u001b[39;00m)\n",
      "File \u001b[1;32mc:\\Users\\slotk\\Desktop\\projectsV2\\cachesaver\\src\\algorithms\\got.py:75\u001b[0m, in \u001b[0;36mAlgorithmGOT.solve\u001b[1;34m(self, idx, state, namespace, value_cache)\u001b[0m\n\u001b[0;32m     61\u001b[0m \u001b[39m# Aggregate actions\u001b[39;00m\n\u001b[0;32m     62\u001b[0m aggregate_coroutines \u001b[39m=\u001b[39m [\n\u001b[0;32m     63\u001b[0m     \u001b[39mself\u001b[39m\u001b[39m.\u001b[39maggregate_agent\u001b[39m.\u001b[39mact(\n\u001b[0;32m     64\u001b[0m         model\u001b[39m=\u001b[39m\u001b[39mself\u001b[39m\u001b[39m.\u001b[39mmodel,\n\u001b[1;32m   (...)\u001b[0m\n\u001b[0;32m     73\u001b[0m     \u001b[39mfor\u001b[39;00m state, actions \u001b[39min\u001b[39;00m \u001b[39mzip\u001b[39m(states, actions)\n\u001b[0;32m     74\u001b[0m ]\n\u001b[1;32m---> 75\u001b[0m actions \u001b[39m=\u001b[39m \u001b[39mawait\u001b[39;00m asyncio\u001b[39m.\u001b[39mgather(\u001b[39m*\u001b[39maggregate_coroutines)\n\u001b[0;32m     77\u001b[0m \u001b[39m# Execute actions on environment\u001b[39;00m\n\u001b[0;32m     78\u001b[0m state_proposals \u001b[39m=\u001b[39m []\n",
      "File \u001b[1;32mc:\\Users\\slotk\\Desktop\\projectsV2\\cachesaver\\src\\tasks\\game24\\agents.py:39\u001b[0m, in \u001b[0;36mAgentAggregateGame24.act\u001b[1;34m(model, state, actions, k, n, namespace, request_id, params)\u001b[0m\n\u001b[0;32m     34\u001b[0m \u001b[39m@staticmethod\u001b[39m\n\u001b[0;32m     35\u001b[0m \u001b[39masync\u001b[39;00m \u001b[39mdef\u001b[39;00m\u001b[39m \u001b[39m\u001b[39mact\u001b[39m(model: Model, state: StateGame24, actions: List[\u001b[39mstr\u001b[39m], k: \u001b[39mint\u001b[39m, n: \u001b[39mint\u001b[39m, namespace: \u001b[39mstr\u001b[39m, request_id: \u001b[39mstr\u001b[39m, params: DecodingParameters) \u001b[39m-\u001b[39m\u001b[39m>\u001b[39m List[\u001b[39mstr\u001b[39m]:\n\u001b[0;32m     36\u001b[0m \u001b[39m    \u001b[39m\u001b[39m\"\"\"\u001b[39;00m\n\u001b[0;32m     37\u001b[0m \u001b[39m    Returns the aggregated actions for the Game of 24 task.\u001b[39;00m\n\u001b[0;32m     38\u001b[0m \u001b[39m    \"\"\"\u001b[39;00m\n\u001b[1;32m---> 39\u001b[0m     \u001b[39mif\u001b[39;00m \u001b[39m\"\u001b[39m\u001b[39mleft\u001b[39m\u001b[39m\"\u001b[39m \u001b[39mnot\u001b[39;00m \u001b[39min\u001b[39;00m state\u001b[39m.\u001b[39;49msteps[\u001b[39m-\u001b[39;49m\u001b[39m1\u001b[39;49m]:\n\u001b[0;32m     40\u001b[0m         \u001b[39mpass\u001b[39;00m\n\u001b[0;32m     42\u001b[0m     \u001b[39m# Format the prompt\u001b[39;00m\n",
      "\u001b[1;31mIndexError\u001b[0m: list index out of range"
     ]
    }
   ],
   "source": [
    "params = DecodingParameters(\n",
    "    temperature=0.7,\n",
    "    max_completion_tokens=100,\n",
    "    top_p=1.0,\n",
    "    stop=None,\n",
    "    logprobs=False,\n",
    ")\n",
    "\n",
    "config = OmegaConf.load(\"scripts\\\\game24.yaml\")\n",
    "\n",
    "agents = AgentDictGOT(\n",
    "    step=AgentBfsGame24,\n",
    "    aggregate=AgentAggregateGame24,\n",
    "    evaluate=AgentEvaluateGame24,\n",
    "    step_params=params,\n",
    "    aggregate_params=params,\n",
    "    eval_params=params,\n",
    ")\n",
    "method = AlgorithmGOT(\n",
    "    model=model,\n",
    "    agents=agents,\n",
    "    env=EnvironmentGame24,\n",
    "    num_selections=config.got.num_selections,\n",
    "    num_steps=config.got.num_steps,\n",
    "    num_best=config.got.num_best,\n",
    "    num_evaluations=config.got.num_evaluations,\n",
    ")\n",
    "\n",
    "results = await method.solve(idx=0, state=state, namespace=\"small\", value_cache=None)"
   ]
  },
  {
   "cell_type": "markdown",
   "metadata": {},
   "source": [
    "# Snippet of each method, to test them each and individual"
   ]
  },
  {
   "cell_type": "code",
   "execution_count": 8,
   "metadata": {},
   "outputs": [
    {
     "name": "stdout",
     "output_type": "stream",
     "text": [
      "['10 + 10 = 20 (left: 20 1 4)', '10 + 1 = 11 (left: 10 11 4)', '10 + 4 = 14 (left: 10 14 1)', '10 * 10 = 100 (left: 100 1 4)', '10 * 1 = 10 (left: 10 10 4)']\n",
      "['10 + 10 = 20 (left: 20 1 4)', '10 + 4 = 14 (left: 10 14 1)', '10 * 1 = 10 (left: 10 10 4)']\n",
      "[StateGame24(puzzle='10 10 1 4', current_state='20 1 4', steps=['10 + 10 = 20 (left: 20 1 4)'], randomness=5723), StateGame24(puzzle='10 10 1 4', current_state='10 14 1', steps=['10 + 4 = 14 (left: 10 14 1)'], randomness=6963), StateGame24(puzzle='10 10 1 4', current_state='10 10 4', steps=['10 * 1 = 10 (left: 10 10 4)'], randomness=5602)]\n",
      "[20.0, 20.0, 20.0]\n"
     ]
    }
   ],
   "source": [
    "generate = AgentBfsGame24()\n",
    "aggregate = AgentAggregateGame24()\n",
    "evaluate = AgentEvaluateGame24()\n",
    "env = EnvironmentGame24()\n",
    "\n",
    "generate_results = await generate.act(model=model, state=state, namespace=\"small\", request_id=0, params=params)\n",
    "print(generate_results)\n",
    "\n",
    "aggregate_results = await aggregate.act(model=model, state=state, actions=generate_results, k=3, n=1, namespace=\"small\", request_id=0, params=params)\n",
    "print(aggregate_results)\n",
    "\n",
    "proposals = []\n",
    "for action in aggregate_results:\n",
    "    proposals.append(env.step(state, action))\n",
    "\n",
    "print(proposals)\n",
    "\n",
    "evaluate_coroutines = [evaluate.act(model=model, state=state, n=1, namespace=\"small\", request_id=0, params=params, cache=None) for state in proposals]\n",
    "evaluate_results = await asyncio.gather(*evaluate_coroutines)\n",
    "print(evaluate_results)"
   ]
  },
  {
   "cell_type": "code",
   "execution_count": null,
   "metadata": {},
   "outputs": [],
   "source": []
  }
 ],
 "metadata": {
  "kernelspec": {
   "display_name": "cachesaver",
   "language": "python",
   "name": "python3"
  },
  "language_info": {
   "codemirror_mode": {
    "name": "ipython",
    "version": 3
   },
   "file_extension": ".py",
   "mimetype": "text/x-python",
   "name": "python",
   "nbconvert_exporter": "python",
   "pygments_lexer": "ipython3",
   "version": "3.10.16"
  }
 },
 "nbformat": 4,
 "nbformat_minor": 2
}
